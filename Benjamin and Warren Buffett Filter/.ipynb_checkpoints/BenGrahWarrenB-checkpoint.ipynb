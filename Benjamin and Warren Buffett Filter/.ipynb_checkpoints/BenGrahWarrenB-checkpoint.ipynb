{
 "cells": [
  {
   "cell_type": "markdown",
   "metadata": {},
   "source": [
    "# Benjamin Graham and Warren Buffett Model Stock Exchange"
   ]
  },
  {
   "cell_type": "markdown",
   "metadata": {},
   "source": [
    "## Introduction:\n",
    "* There are about 4000 stocks which are actively traded on the stock exchanges at BSE and NSE.\n",
    "* We can extract public financial data from sites like to find which are the fundamentally strong stocks. \n",
    "* On what stocks would the father of value investing, Benjamin Graham and Warren Buffett the most successful investors in the world make their investments on."
   ]
  },
  {
   "cell_type": "markdown",
   "metadata": {},
   "source": [
    "## Benjamin Graham and Warren Buffett Model:\n",
    "1. **Step 1:** Filtering out all companies with sales less than Rs 250 cr. Companies with sales lower than this are very small companies and might not have the business stability and access to finance that is required for a safe investment. This eliminates the basic business risk.\n",
    "2. **Step 2:** Filtering out all companies with debt to equity greater than 30%. Companies with low leverage are safer.\n",
    "3. **Step 3:** Filtering out all companies with interest coverage ratio of less than 4. Companies with high interest coverage ratio have a highly reduced bankruptcy risk.\n",
    "4. **Step 4:** Filtering out all companies with ROE less than 15% since they are earning less than their cost of capital. High ROE companies have a robust business model, which generates increased earnings for the company typically.\n",
    "5. **Step 5:** Filtering out all companies with PE ratio greater than 25 since they are too expensive even for a high-quality company. This enables us to pick companies which are relatively cheaper as against their actual value. He points out that applying these filters enables us to reduce and even eliminate a lot of fundamental risks while ensuring a robust business model, strong earning potential and a good buying price."
   ]
  },
  {
   "cell_type": "markdown",
   "metadata": {},
   "source": [
    "## Implementation of the Model."
   ]
  },
  {
   "cell_type": "code",
   "execution_count": 80,
   "metadata": {},
   "outputs": [],
   "source": [
    "# importing required libraries\n",
    "\n",
    "import requests\n",
    "import re\n",
    "from bs4 import BeautifulSoup\n",
    "import pandas as pd\n",
    "import numpy as np"
   ]
  },
  {
   "cell_type": "code",
   "execution_count": 81,
   "metadata": {},
   "outputs": [
    {
     "data": {
      "text/html": [
       "<div>\n",
       "<style scoped>\n",
       "    .dataframe tbody tr th:only-of-type {\n",
       "        vertical-align: middle;\n",
       "    }\n",
       "\n",
       "    .dataframe tbody tr th {\n",
       "        vertical-align: top;\n",
       "    }\n",
       "\n",
       "    .dataframe thead th {\n",
       "        text-align: right;\n",
       "    }\n",
       "</style>\n",
       "<table border=\"1\" class=\"dataframe\">\n",
       "  <thead>\n",
       "    <tr style=\"text-align: right;\">\n",
       "      <th></th>\n",
       "      <th>Company</th>\n",
       "      <th>Link</th>\n",
       "    </tr>\n",
       "  </thead>\n",
       "  <tbody>\n",
       "    <tr>\n",
       "      <th>0</th>\n",
       "      <td>ADANIPORTS</td>\n",
       "      <td>https://www.moneycontrol.com/financials/adanip...</td>\n",
       "    </tr>\n",
       "    <tr>\n",
       "      <th>1</th>\n",
       "      <td>ASIANPAINT</td>\n",
       "      <td>https://www.moneycontrol.com/financials/asianp...</td>\n",
       "    </tr>\n",
       "    <tr>\n",
       "      <th>2</th>\n",
       "      <td>BAJAJ-AUTO</td>\n",
       "      <td>https://www.moneycontrol.com/financials/bajaja...</td>\n",
       "    </tr>\n",
       "    <tr>\n",
       "      <th>3</th>\n",
       "      <td>BAJFINANCE</td>\n",
       "      <td>https://www.moneycontrol.com/financials/bajajf...</td>\n",
       "    </tr>\n",
       "    <tr>\n",
       "      <th>4</th>\n",
       "      <td>BHARTIARTL</td>\n",
       "      <td>https://www.moneycontrol.com/financials/bharti...</td>\n",
       "    </tr>\n",
       "  </tbody>\n",
       "</table>\n",
       "</div>"
      ],
      "text/plain": [
       "      Company                                               Link\n",
       "0  ADANIPORTS  https://www.moneycontrol.com/financials/adanip...\n",
       "1  ASIANPAINT  https://www.moneycontrol.com/financials/asianp...\n",
       "2  BAJAJ-AUTO  https://www.moneycontrol.com/financials/bajaja...\n",
       "3  BAJFINANCE  https://www.moneycontrol.com/financials/bajajf...\n",
       "4  BHARTIARTL  https://www.moneycontrol.com/financials/bharti..."
      ]
     },
     "execution_count": 81,
     "metadata": {},
     "output_type": "execute_result"
    }
   ],
   "source": [
    "# Read the data from the csv files\n",
    "\n",
    "data=pd.read_csv(\"Companies.csv\")\n",
    "data.head()"
   ]
  },
  {
   "cell_type": "markdown",
   "metadata": {},
   "source": [
    "### Analysing the dataset / Data cleaning."
   ]
  },
  {
   "cell_type": "code",
   "execution_count": 82,
   "metadata": {},
   "outputs": [
    {
     "data": {
      "text/plain": [
       "Company    0\n",
       "Link       0\n",
       "dtype: int64"
      ]
     },
     "execution_count": 82,
     "metadata": {},
     "output_type": "execute_result"
    }
   ],
   "source": [
    "# Checking for null values\n",
    "\n",
    "data.isnull().sum()"
   ]
  },
  {
   "cell_type": "code",
   "execution_count": 83,
   "metadata": {
    "scrolled": true
   },
   "outputs": [
    {
     "name": "stdout",
     "output_type": "stream",
     "text": [
      "<class 'pandas.core.frame.DataFrame'>\n",
      "RangeIndex: 41 entries, 0 to 40\n",
      "Data columns (total 2 columns):\n",
      " #   Column   Non-Null Count  Dtype \n",
      "---  ------   --------------  ----- \n",
      " 0   Company  41 non-null     object\n",
      " 1   Link     41 non-null     object\n",
      "dtypes: object(2)\n",
      "memory usage: 784.0+ bytes\n"
     ]
    }
   ],
   "source": [
    "data.info()"
   ]
  },
  {
   "cell_type": "code",
   "execution_count": 84,
   "metadata": {},
   "outputs": [
    {
     "data": {
      "text/html": [
       "<div>\n",
       "<style scoped>\n",
       "    .dataframe tbody tr th:only-of-type {\n",
       "        vertical-align: middle;\n",
       "    }\n",
       "\n",
       "    .dataframe tbody tr th {\n",
       "        vertical-align: top;\n",
       "    }\n",
       "\n",
       "    .dataframe thead th {\n",
       "        text-align: right;\n",
       "    }\n",
       "</style>\n",
       "<table border=\"1\" class=\"dataframe\">\n",
       "  <thead>\n",
       "    <tr style=\"text-align: right;\">\n",
       "      <th></th>\n",
       "      <th>Company</th>\n",
       "      <th>Link</th>\n",
       "    </tr>\n",
       "  </thead>\n",
       "  <tbody>\n",
       "    <tr>\n",
       "      <th>count</th>\n",
       "      <td>41</td>\n",
       "      <td>41</td>\n",
       "    </tr>\n",
       "    <tr>\n",
       "      <th>unique</th>\n",
       "      <td>41</td>\n",
       "      <td>41</td>\n",
       "    </tr>\n",
       "    <tr>\n",
       "      <th>top</th>\n",
       "      <td>DRREDDY</td>\n",
       "      <td>https://www.moneycontrol.com/financials/bharti...</td>\n",
       "    </tr>\n",
       "    <tr>\n",
       "      <th>freq</th>\n",
       "      <td>1</td>\n",
       "      <td>1</td>\n",
       "    </tr>\n",
       "  </tbody>\n",
       "</table>\n",
       "</div>"
      ],
      "text/plain": [
       "        Company                                               Link\n",
       "count        41                                                 41\n",
       "unique       41                                                 41\n",
       "top     DRREDDY  https://www.moneycontrol.com/financials/bharti...\n",
       "freq          1                                                  1"
      ]
     },
     "execution_count": 84,
     "metadata": {},
     "output_type": "execute_result"
    }
   ],
   "source": [
    "data.describe()"
   ]
  },
  {
   "cell_type": "markdown",
   "metadata": {},
   "source": [
    "* The data looks clean and ready to be used."
   ]
  },
  {
   "cell_type": "markdown",
   "metadata": {},
   "source": [
    "### Extracting the links of the companies from the data.\n",
    "\n",
    "**Note:** The data is being extracted from [Money Control Website](https://www.moneycontrol.com/)"
   ]
  },
  {
   "cell_type": "code",
   "execution_count": 85,
   "metadata": {},
   "outputs": [],
   "source": [
    "companynames=list(data.iloc[:,0])\n",
    "links=list(data.iloc[:,1])\n",
    "\n",
    "#links for old format page\n",
    "linkso=[]\n",
    "for i in range(0,len(links)):\n",
    "    a=links[i].find('VI')\n",
    "    b=links[i][:a]+links[i][a+2:]\n",
    "    linkso.append(b)\n",
    "\n",
    "#links for profit-loss page\n",
    "linkso_pl=[]\n",
    "for i in range(0,len(linkso)):\n",
    "    a=linkso[i].find('balance-sheet')\n",
    "    b=linkso[i][:a]+'profit-loss'+linkso[i][a+13:]\n",
    "    linkso_pl.append(b)"
   ]
  },
  {
   "cell_type": "markdown",
   "metadata": {},
   "source": [
    "## Implementation of Step - 1 "
   ]
  },
  {
   "cell_type": "markdown",
   "metadata": {},
   "source": [
    "### Scrapping Net Sales\n",
    "<br>\n",
    "\n",
    "**Note:** \n",
    "* As the details of net sales was not provided, the following banks were excluded from the file:\n",
    "> HDFC bank, ICICI bank, Indusland bank, Kotak Mahindra Bank, Yes Bank, SBI\n",
    "* As interestt cover ratio was not provided, the following were also excluded.\n",
    "> Bajaj Finserv and Infosys \n"
   ]
  },
  {
   "cell_type": "code",
   "execution_count": null,
   "metadata": {},
   "outputs": [],
   "source": [
    "netsales_list=[]\n",
    "for i in range(0,len(linkso_pl)):\n",
    "    pageold=requests.get(linkso_pl[i])\n",
    "    soup = BeautifulSoup(pageold.text, 'html.parser')\n",
    "    about=soup.findAll('table')\n",
    "    about=str(about)\n",
    "    a=re.findall('<td>Net Sales</td>\\n.*</td>',about)\n",
    "    netsales=re.findall('>[-+]?[0-9].*<',str(a))\n",
    "    netsales=netsales[0][1:len(netsales[0])-1]\n",
    "    if(netsales.find(',') != -1):\n",
    "        b=netsales.find(',')\n",
    "        netsales_list.append(float(netsales[:b]+netsales[b+1:]))\n",
    "        b=-1\n",
    "    else:\n",
    "        netsales_list.append(float(netsales))"
   ]
  },
  {
   "cell_type": "markdown",
   "metadata": {},
   "source": [
    "* The Net Sales of each company is saved in the netsales list in Crores."
   ]
  },
  {
   "cell_type": "code",
   "execution_count": null,
   "metadata": {},
   "outputs": [],
   "source": [
    "# values in cr.\n",
    "netsales_list"
   ]
  },
  {
   "cell_type": "markdown",
   "metadata": {},
   "source": [
    "#### Filtering. \n",
    "* The companies with less than 250 cr. Net Sales are to be filtered out/removed."
   ]
  },
  {
   "cell_type": "code",
   "execution_count": null,
   "metadata": {},
   "outputs": [],
   "source": [
    "filtersales=[]\n",
    "filtercomp=[]\n",
    "filterlink=[]\n",
    "filterolink=[]\n",
    "for i in range(0,len(netsales_list)):\n",
    "    if(netsales_list[i]<250.00):\n",
    "        filtersales.append(netsales_list[i])\n",
    "        filtercomp.append(companynames[i])\n",
    "        filterlink.append(links[i])\n",
    "        filterolink.append(linkso[i])\n",
    "for i in range(0,len(filtersales)):\n",
    "    netsales_list.remove(filtersales[i])\n",
    "    companynames.remove(filtercomp[i])\n",
    "    links.remove(filterlink[i])\n",
    "    linkso.remove(filterolink[i])"
   ]
  },
  {
   "cell_type": "markdown",
   "metadata": {},
   "source": [
    "## Implementatin of Step - 2"
   ]
  },
  {
   "cell_type": "markdown",
   "metadata": {},
   "source": [
    "### Scraping debt equity Ratio"
   ]
  },
  {
   "cell_type": "markdown",
   "metadata": {},
   "source": [
    "* **Some of the data to be extracted is in old page format.**\n",
    "* **The links of the old page is stored in linkso_r list.**"
   ]
  },
  {
   "cell_type": "code",
   "execution_count": null,
   "metadata": {},
   "outputs": [],
   "source": [
    "#links for ratio page\n",
    "linkso_r=[]\n",
    "for i in range(0,len(linkso)):\n",
    "    a=linkso[i].find('balance-sheet')\n",
    "    b=linkso[i][:a]+'ratios'+linkso[i][a+13:]\n",
    "    linkso_r.append(b)\n",
    "    \n",
    "debtequity_ratio=[]\n",
    "for i in range(0,len(linkso_r)):\n",
    "    pageold=requests.get(linkso_r[i])\n",
    "    soup = BeautifulSoup(pageold.text, 'html.parser')\n",
    "    about=soup.findAll('table')\n",
    "    about=str(about)\n",
    "    a=re.findall('<td>Debt Equity Ratio</td>\\n.*</td>',about)\n",
    "    der=re.findall('>[-+]?[0-9].*<',str(a))\n",
    "    if(len(der)==0):\n",
    "        der=0\n",
    "    else:\n",
    "        der=der[0][1:len(der[0])-1]\n",
    "    debtequity_ratio.append(float(der))\n"
   ]
  },
  {
   "cell_type": "code",
   "execution_count": null,
   "metadata": {},
   "outputs": [],
   "source": [
    "debtequity_ratio"
   ]
  },
  {
   "cell_type": "markdown",
   "metadata": {},
   "source": [
    "#### Companies with Debt Equity Ratio greater than 0.3 are filtered/removed."
   ]
  },
  {
   "cell_type": "code",
   "execution_count": null,
   "metadata": {},
   "outputs": [],
   "source": [
    "filtersales=[]  \n",
    "filterder=[]\n",
    "filtercomp=[]\n",
    "filterlink=[]\n",
    "filterolink=[]\n",
    "for i in range(0,len(debtequity_ratio)):\n",
    "    if(debtequity_ratio[i]>0.3):\n",
    "        filterder.append(debtequity_ratio[i])\n",
    "        filtercomp.append(companynames[i])\n",
    "        filterlink.append(links[i])\n",
    "        filterolink.append(linkso[i])\n",
    "        filtersales.append(netsales_list[i])\n",
    "for i in range(0,len(filterder)):\n",
    "    debtequity_ratio.remove(filterder[i])\n",
    "    companynames.remove(filtercomp[i])\n",
    "    links.remove(filterlink[i])\n",
    "    linkso.remove(filterolink[i])\n",
    "    netsales_list.remove(filtersales[i])\n"
   ]
  },
  {
   "cell_type": "markdown",
   "metadata": {},
   "source": [
    "## Implementation of Step - 3\n",
    "\n",
    "### Scraping Interest Coverage Ratio."
   ]
  },
  {
   "cell_type": "code",
   "execution_count": null,
   "metadata": {},
   "outputs": [],
   "source": [
    "#links for ratio page\n",
    "linkso_r=[]\n",
    "\n",
    "for i in range(0,len(linkso)):\n",
    "    a=linkso[i].find('balance-sheet')\n",
    "    b=linkso[i][:a]+'ratios'+linkso[i][a+13:]\n",
    "    linkso_r.append(b)\n",
    "\n",
    "icr_list=[]\n",
    "\n",
    "for i in range(0,len(linkso_r)): \n",
    "    pageold=requests.get(linkso_r[i])\n",
    "    soup = BeautifulSoup(pageold.text, 'html.parser')\n",
    "    about=soup.findAll('table')\n",
    "    about=str(about)\n",
    "    a=re.findall('<td>Interest Cover</td>\\n.*</td>',about)\n",
    "    #icr = re.findall(\"[^a-zA-Z:]([-+]?\\d+[\\.]?\\d*)\", str(a))\n",
    "    icr=re.findall('>[-+]?[0-9].*<',str(a))\n",
    "    icr=icr[0][1:len(icr[0])-1]\n",
    "    if(icr.find(',') != -1):\n",
    "        b=icr.find(',')\n",
    "        icr_list.append(float(icr[:b]+icr[b+1:]))\n",
    "        b=-1\n",
    "    else:\n",
    "        icr_list.append(float(icr))"
   ]
  },
  {
   "cell_type": "code",
   "execution_count": null,
   "metadata": {
    "scrolled": true
   },
   "outputs": [],
   "source": [
    "icr_list"
   ]
  },
  {
   "cell_type": "markdown",
   "metadata": {},
   "source": [
    "#### Filtering out all companies with interest coverage ratio of less than 4."
   ]
  },
  {
   "cell_type": "code",
   "execution_count": null,
   "metadata": {},
   "outputs": [],
   "source": [
    "filtericr=[]\n",
    "filtercomp=[]\n",
    "filterlink=[]\n",
    "filterolink=[]\n",
    "filtersales=[]\n",
    "filterder=[]\n",
    "for i in range(0,len(icr_list)):\n",
    "    if(icr_list[i]<4):\n",
    "        filtericr.append(icr_list[i])\n",
    "        filtercomp.append(companynames[i])\n",
    "        filterlink.append(links[i])\n",
    "        filterolink.append(linkso[i])\n",
    "        filtersales.append(netsales_list[i])\n",
    "        filterder.append(debtequity_ratio[i])\n",
    "for i in range(0,len(filtericr)):\n",
    "    icr_list.remove(filtericr[i])\n",
    "    companynames.remove(filtercomp[i])\n",
    "    links.remove(filterlink[i])\n",
    "    linkso.remove(filterolink[i])   \n",
    "    netsales_list.remove(filtersales[i])\n",
    "    debtequity_ratio.remove(filterder[i])"
   ]
  },
  {
   "cell_type": "markdown",
   "metadata": {},
   "source": [
    "## Implementation of Step - 4"
   ]
  },
  {
   "cell_type": "markdown",
   "metadata": {},
   "source": [
    "* ROE stands for **Return on Equity.**\n",
    "* ROE is calculated by using the formula showm below."
   ]
  },
  {
   "attachments": {
    "roe-return-on-equity.png": {
     "image/png": "[encoded data removed]"
    }
   },
   "cell_type": "markdown",
   "metadata": {},
   "source": [
    "![roe-return-on-equity.png](attachment:roe-return-on-equity.png)"
   ]
  },
  {
   "cell_type": "markdown",
   "metadata": {},
   "source": [
    "* Net Income can be scrapped directly from the website.\n",
    "\n",
    "**Scraping Total Income**"
   ]
  },
  {
   "cell_type": "code",
   "execution_count": null,
   "metadata": {},
   "outputs": [],
   "source": [
    "# links for profit loss page is stored in links_pl\n",
    "links_pl=[]\n",
    "for i in range(0,len(links)):\n",
    "    a=links[i].find('balance-sheet')\n",
    "    b=links[i][:a]+'profit-loss'+links[i][a+13:]\n",
    "    links_pl.append(b)\n",
    "\n",
    "ti_list=[]\n",
    "for i in range(0,len(links_pl)):\n",
    "    pageold=requests.get(links_pl[i])\n",
    "    soup = BeautifulSoup(pageold.text, 'html.parser')\n",
    "    about=soup.findAll('table')\n",
    "    about=str(about)\n",
    "    a=re.findall('<td>Total Revenue</td>\\n.*</td>',about)\n",
    "    ti=re.findall('>[0-9].*<',str(a))\n",
    "    ti=ti[0][1:len(ti[0])-1]\n",
    "    if(ti.find(',') != -1):\n",
    "        b=ti.find(',')\n",
    "        ti_list.append(float(ti[:b]+ti[b+1:]))\n",
    "        b = -1\n",
    "    else:\n",
    "        ti_list.append(float(ti))\n"
   ]
  },
  {
   "cell_type": "markdown",
   "metadata": {},
   "source": [
    "* Total Income has been scrapped and stored in the ti_list variable."
   ]
  },
  {
   "cell_type": "code",
   "execution_count": null,
   "metadata": {},
   "outputs": [],
   "source": [
    "ti_list"
   ]
  },
  {
   "cell_type": "markdown",
   "metadata": {},
   "source": [
    "**Scraping Shareholder's Equity Share Capital**"
   ]
  },
  {
   "cell_type": "markdown",
   "metadata": {},
   "source": [
    "* Total assests can be extracted directly from the website.\n",
    "* Total Liabilities is **Total Non-Current Liabilities + Total Current Liabilities.**\n",
    "* Total Non-Current Liabilities and Total Current Liabilities can be extracted from the website and later used in the formula."
   ]
  },
  {
   "cell_type": "code",
   "execution_count": 13,
   "metadata": {},
   "outputs": [],
   "source": [
    "tot_assets=[]\n",
    "current_lia=[]\n",
    "noncurrent_lia=[]\n",
    "\n",
    "for i in range(0,len(links)):\n",
    "    pageold=requests.get(links[i])\n",
    "    soup = BeautifulSoup(pageold.text, 'html.parser')\n",
    "    about=soup.findAll('table')\n",
    "    about=str(about)\n",
    "    a=re.findall('<td>Total Assets</td>\\n.*</td>',about)\n",
    "    totas=re.findall('>[-+]?[0-9].*<',str(a))\n",
    "    totas=totas[0][1:len(totas[0])-1]\n",
    "    if(totas.find(',') != -1):\n",
    "        b=totas.find(',')\n",
    "        tot_assets.append(float(totas[:b]+totas[b+1:]))\n",
    "        b=-1\n",
    "    else:\n",
    "        tot_assets.append(float(totas))\n",
    "    \n",
    "    a=re.findall('<td>Total Non-Current Liabilities</td>\\n.*</td>',about)\n",
    "    totncl=re.re.findall('>[-+]?[0-9].*<',str(a))\n",
    "    totncl=totncl[0][1:len(totncl[0])-1]\n",
    "    if(totncl.find(',') != -1):\n",
    "        b=totncl.find(',')\n",
    "        noncurrent_lia.append(float(totncl[:b]+totncl[b+1:]))\n",
    "        b = -1\n",
    "    else:\n",
    "        noncurrent_lia.append(float(totncl))\n",
    "    \n",
    "    a=re.findall('<td>Total Current Liabilities</td>\\n.*</td>',about)\n",
    "    totcl=re.findall('>[-+]?[0-9].*<',str(a))\n",
    "    totcl=totcl[0][1:len(totcl[0])-1]\n",
    "    if(totcl.find(',') != -1):\n",
    "        b=totcl.find(',')\n",
    "        current_lia.append(float(totcl[:b]+totcl[b+1:]))\n",
    "        b=-1\n",
    "    else:\n",
    "        current_lia.append(float(totcl))\n",
    "    \n"
   ]
  },
  {
   "cell_type": "markdown",
   "metadata": {},
   "source": [
    "**Calculating ROE from the scrapped data.**"
   ]
  },
  {
   "cell_type": "code",
   "execution_count": null,
   "metadata": {},
   "outputs": [],
   "source": [
    "roe_list=np.array(ti_list)/(np.array(tot_assets)-np.array(current_lia)-np.array(noncurrent_lia))\n",
    "roe_list=roe_list.tolist()"
   ]
  },
  {
   "cell_type": "markdown",
   "metadata": {},
   "source": [
    "### Filtering ROE values."
   ]
  },
  {
   "cell_type": "markdown",
   "metadata": {},
   "source": [
    "## Implementation of Step - 5"
   ]
  },
  {
   "cell_type": "code",
   "execution_count": 14,
   "metadata": {},
   "outputs": [],
   "source": [
    "''' Scraping for PE'''\n",
    "\n",
    "links_r=[]\n",
    "for i in range(0,len(links)):\n",
    "    a=links[i].find('balance-sheet')\n",
    "    b=links[i][:a]+'ratios'+links[i][a+13:]\n",
    "    links_r.append(b)\n",
    "\n",
    "pricbv=[]\n",
    "bkvshr=[]\n",
    "for i in range(0,len(links_r)):\n",
    "    pageold=requests.get(links_r[i])\n",
    "    soup = BeautifulSoup(pageold.text, 'html.parser')\n",
    "    about=soup.findAll('table')\n",
    "    about=str(about)\n",
    "    a=re.findall('<td>Price/BV.*</td>\\n.*</td>',about)\n",
    "    pbv=re.findall('>[-+]?[0-9].*<',str(a))\n",
    "    pbv=pbv[0][1:len(pbv[0])-1]\n",
    "    if(len(pbv)>6):\n",
    "        a=pbv.find(',')\n",
    "        pricbv.append(float(pbv[:a]+pbv[a+1:]))\n",
    "    else:\n",
    "        pricbv.append(float(pbv))\n",
    "        \n",
    "    a=re.findall('<td>Book Value.*/Share.*</td>\\n.*</td>',about)\n",
    "    a=a[0]\n",
    "    pbvs=re.findall('>[-+]?[0-9].*<',str(a))\n",
    "    pbvs=pbvs[0][1:len(pbvs[0])-1]\n",
    "    if(len(pbvs)>6):\n",
    "        a=pbvs.find(',')\n",
    "        bkvshr.append(float(pbvs[:a]+pbvs[a+1:]))\n",
    "    else:\n",
    "        bkvshr.append(float(pbvs))\n",
    "\n",
    "eps_list=[]\n",
    "for i in range(0,len(links_pl)):\n",
    "    pageold=requests.get(links_pl[i])\n",
    "    soup = BeautifulSoup(pageold.text, 'html.parser')\n",
    "    about=soup.findAll('table')\n",
    "    about=str(about)\n",
    "    a=re.findall('<td>Basic EPS.*</td>\\n.*</td>',about)\n",
    "    eps=re.findall('>[-+]?[0-9].*<',str(a))\n",
    "    eps=eps[0][1:len(eps[0])-1]\n",
    "    if(len(eps)>6):\n",
    "        a=eps.find(',')\n",
    "        eps_list.append(float(eps[:a]+eps[a+1:]))\n",
    "    else:\n",
    "        eps_list.append(float(eps))\n",
    "\n",
    "\n",
    "pe=np.array(bkvshr)*np.array(pricbv)/np.array(eps_list)\n",
    "pe=pe.tolist()"
   ]
  },
  {
   "cell_type": "code",
   "execution_count": 15,
   "metadata": {},
   "outputs": [],
   "source": [
    "''' Filter PE values '''\n",
    "filtersales=[]  \n",
    "filterder=[]\n",
    "filtericr=[]\n",
    "filterroe=[]\n",
    "filterpe=[]\n",
    "filtercomp=[]\n",
    "filterlink=[]\n",
    "filterolink=[]\n",
    "for i in range(0,len(pe)):\n",
    "    if(pe[i]>25):\n",
    "        filtersales.append(netsales_list[i])\n",
    "        filterder.append(debtequity_ratio[i])\n",
    "        filtericr.append(icr_list[i])\n",
    "        filterroe.append(roe_list[i])\n",
    "        filterpe.append(pe[i])\n",
    "        filtercomp.append(companynames[i])\n",
    "        filterlink.append(links[i])\n",
    "\n",
    "for i in range(0,len(filterpe)):\n",
    "    netsales_list.remove(filtersales[i])\n",
    "    debtequity_ratio.remove(filterder[i])\n",
    "    icr_list.remove(filtericr[i])\n",
    "    roe_list.remove(filterroe[i])\n",
    "    pe.remove(filterpe[i])\n",
    "    companynames.remove(filtercomp[i])\n",
    "    links.remove(filterlink[i])"
   ]
  },
  {
   "cell_type": "code",
   "execution_count": 16,
   "metadata": {},
   "outputs": [],
   "source": [
    "final=list(zip(companynames,netsales_list,debtequity_ratio,icr_list,roe_list,pe))\n",
    "\n",
    "filtered_list=pd.DataFrame(final,columns=['Company','Net Sales in cr.','Debt to Equity Ratio','Interest Coverage Ratio','Return On Equity (ROE)','P/E Ratio'])\n"
   ]
  },
  {
   "cell_type": "code",
   "execution_count": 17,
   "metadata": {},
   "outputs": [
    {
     "name": "stdout",
     "output_type": "stream",
     "text": [
      "       Company  Net Sales in cr.  Debt to Equity Ratio  \\\n",
      "0   BAJAJ-AUTO          30249.96                  0.02   \n",
      "1        CIPLA          12374.01                  0.00   \n",
      "2    COALINDIA            934.30                  0.00   \n",
      "3         GAIL          75126.30                  0.00   \n",
      "4      HCLTECH          26012.00                  0.00   \n",
      "5   HEROMOTOCO          33650.54                  0.07   \n",
      "6     INFRATEL           6821.70                  0.00   \n",
      "7          M&M          53614.00                  0.11   \n",
      "8         ONGC         109609.42                  0.00   \n",
      "9        TECHM          27219.60                  0.00   \n",
      "10       WIPRO          48123.80                  0.10   \n",
      "\n",
      "    Interest Coverage Ratio  Return On Equity (ROE)  P/E Ratio  \n",
      "0                   1420.90                1.464620  18.024956  \n",
      "1                    147.90                0.820657  22.553348  \n",
      "2                    586.50                0.820364  14.040622  \n",
      "3                     68.93                1.738852  13.025576  \n",
      "4                    621.69                0.881008  18.215071  \n",
      "5                    583.64                2.671033  15.077473  \n",
      "6                     70.28                0.541990  20.848503  \n",
      "7                     57.04                1.616610  16.673879  \n",
      "8                     17.03                0.577009   7.658025  \n",
      "9                    126.92                1.288050  17.424361  \n",
      "10                    19.80                1.026328  20.093496  \n"
     ]
    }
   ],
   "source": [
    "print(filtered_list)"
   ]
  },
  {
   "cell_type": "code",
   "execution_count": null,
   "metadata": {},
   "outputs": [],
   "source": []
  }
 ],
 "metadata": {
  "kernelspec": {
   "display_name": "Python 3",
   "language": "python",
   "name": "python3"
  },
  "language_info": {
   "codemirror_mode": {
    "name": "ipython",
    "version": 3
   },
   "file_extension": ".py",
   "mimetype": "text/x-python",
   "name": "python",
   "nbconvert_exporter": "python",
   "pygments_lexer": "ipython3",
   "version": "3.7.7"
  }
 },
 "nbformat": 4,
 "nbformat_minor": 2
}
