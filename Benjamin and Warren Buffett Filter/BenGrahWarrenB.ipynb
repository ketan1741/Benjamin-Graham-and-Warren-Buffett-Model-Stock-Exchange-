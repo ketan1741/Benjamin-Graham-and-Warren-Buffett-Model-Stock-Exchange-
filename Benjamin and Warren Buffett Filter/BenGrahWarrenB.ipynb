{
 "cells": [
  {
   "cell_type": "markdown",
   "metadata": {},
   "source": [
    "# Benjamin Graham and Warren Buffett Model Stock Exchange"
   ]
  },
  {
   "cell_type": "markdown",
   "metadata": {},
   "source": [
    "## Introduction:\n",
    "* There are about 4000 stocks which are actively traded on the stock exchanges at BSE and NSE.\n",
    "* We can extract public financial data from sites like to find which are the fundamentally strong stocks. \n",
    "* On what stocks would the father of value investing, Benjamin Graham and Warren Buffett the most successful investors in the world make their investments on."
   ]
  },
  {
   "cell_type": "markdown",
   "metadata": {},
   "source": [
    "## Benjamin Graham and Warren Buffett Model:\n",
    "1. **Step 1:** Filtering out all companies with sales less than Rs 250 cr. Companies with sales lower than this are very small companies and might not have the business stability and access to finance that is required for a safe investment. This eliminates the basic business risk.\n",
    "2. **Step 2:** Filtering out all companies with debt to equity greater than 30%. Companies with low leverage are safer.\n",
    "3. **Step 3:** Filtering out all companies with interest coverage ratio of less than 4. Companies with high interest coverage ratio have a highly reduced bankruptcy risk.\n",
    "4. **Step 4:** Filtering out all companies with ROE less than 15% since they are earning less than their cost of capital. High ROE companies have a robust business model, which generates increased earnings for the company typically.\n",
    "5. **Step 5:** Filtering out all companies with PE ratio greater than 25 since they are too expensive even for a high-quality company. This enables us to pick companies which are relatively cheaper as against their actual value. He points out that applying these filters enables us to reduce and even eliminate a lot of fundamental risks while ensuring a robust business model, strong earning potential and a good buying price."
   ]
  },
  {
   "cell_type": "markdown",
   "metadata": {},
   "source": [
    "## Implementation of the Model."
   ]
  },
  {
   "cell_type": "code",
   "execution_count": 1,
   "metadata": {},
   "outputs": [],
   "source": [
    "# importing required libraries\n",
    "\n",
    "import requests\n",
    "import re\n",
    "from bs4 import BeautifulSoup\n",
    "import pandas as pd\n",
    "import numpy as np"
   ]
  },
  {
   "cell_type": "code",
   "execution_count": 2,
   "metadata": {},
   "outputs": [
    {
     "data": {
      "text/html": [
       "<div>\n",
       "<style scoped>\n",
       "    .dataframe tbody tr th:only-of-type {\n",
       "        vertical-align: middle;\n",
       "    }\n",
       "\n",
       "    .dataframe tbody tr th {\n",
       "        vertical-align: top;\n",
       "    }\n",
       "\n",
       "    .dataframe thead th {\n",
       "        text-align: right;\n",
       "    }\n",
       "</style>\n",
       "<table border=\"1\" class=\"dataframe\">\n",
       "  <thead>\n",
       "    <tr style=\"text-align: right;\">\n",
       "      <th></th>\n",
       "      <th>Company</th>\n",
       "      <th>Link</th>\n",
       "    </tr>\n",
       "  </thead>\n",
       "  <tbody>\n",
       "    <tr>\n",
       "      <th>0</th>\n",
       "      <td>ADANIPORTS</td>\n",
       "      <td>https://www.moneycontrol.com/financials/adanip...</td>\n",
       "    </tr>\n",
       "    <tr>\n",
       "      <th>1</th>\n",
       "      <td>ASIANPAINT</td>\n",
       "      <td>https://www.moneycontrol.com/financials/asianp...</td>\n",
       "    </tr>\n",
       "    <tr>\n",
       "      <th>2</th>\n",
       "      <td>BAJAJ-AUTO</td>\n",
       "      <td>https://www.moneycontrol.com/financials/bajaja...</td>\n",
       "    </tr>\n",
       "    <tr>\n",
       "      <th>3</th>\n",
       "      <td>BAJFINANCE</td>\n",
       "      <td>https://www.moneycontrol.com/financials/bajajf...</td>\n",
       "    </tr>\n",
       "    <tr>\n",
       "      <th>4</th>\n",
       "      <td>BHARTIARTL</td>\n",
       "      <td>https://www.moneycontrol.com/financials/bharti...</td>\n",
       "    </tr>\n",
       "  </tbody>\n",
       "</table>\n",
       "</div>"
      ],
      "text/plain": [
       "      Company                                               Link\n",
       "0  ADANIPORTS  https://www.moneycontrol.com/financials/adanip...\n",
       "1  ASIANPAINT  https://www.moneycontrol.com/financials/asianp...\n",
       "2  BAJAJ-AUTO  https://www.moneycontrol.com/financials/bajaja...\n",
       "3  BAJFINANCE  https://www.moneycontrol.com/financials/bajajf...\n",
       "4  BHARTIARTL  https://www.moneycontrol.com/financials/bharti..."
      ]
     },
     "execution_count": 2,
     "metadata": {},
     "output_type": "execute_result"
    }
   ],
   "source": [
    "# Read the data from the csv files\n",
    "\n",
    "data=pd.read_csv(\"Companies.csv\")\n",
    "data.head()"
   ]
  },
  {
   "cell_type": "markdown",
   "metadata": {},
   "source": [
    "### Analysing the dataset / Data cleaning."
   ]
  },
  {
   "cell_type": "code",
   "execution_count": 3,
   "metadata": {},
   "outputs": [
    {
     "data": {
      "text/plain": [
       "Company    0\n",
       "Link       0\n",
       "dtype: int64"
      ]
     },
     "execution_count": 3,
     "metadata": {},
     "output_type": "execute_result"
    }
   ],
   "source": [
    "# Checking for null values\n",
    "\n",
    "data.isnull().sum()"
   ]
  },
  {
   "cell_type": "code",
   "execution_count": 4,
   "metadata": {
    "scrolled": true
   },
   "outputs": [
    {
     "name": "stdout",
     "output_type": "stream",
     "text": [
      "<class 'pandas.core.frame.DataFrame'>\n",
      "RangeIndex: 41 entries, 0 to 40\n",
      "Data columns (total 2 columns):\n",
      " #   Column   Non-Null Count  Dtype \n",
      "---  ------   --------------  ----- \n",
      " 0   Company  41 non-null     object\n",
      " 1   Link     41 non-null     object\n",
      "dtypes: object(2)\n",
      "memory usage: 784.0+ bytes\n"
     ]
    }
   ],
   "source": [
    "data.info()"
   ]
  },
  {
   "cell_type": "code",
   "execution_count": 5,
   "metadata": {},
   "outputs": [
    {
     "data": {
      "text/html": [
       "<div>\n",
       "<style scoped>\n",
       "    .dataframe tbody tr th:only-of-type {\n",
       "        vertical-align: middle;\n",
       "    }\n",
       "\n",
       "    .dataframe tbody tr th {\n",
       "        vertical-align: top;\n",
       "    }\n",
       "\n",
       "    .dataframe thead th {\n",
       "        text-align: right;\n",
       "    }\n",
       "</style>\n",
       "<table border=\"1\" class=\"dataframe\">\n",
       "  <thead>\n",
       "    <tr style=\"text-align: right;\">\n",
       "      <th></th>\n",
       "      <th>Company</th>\n",
       "      <th>Link</th>\n",
       "    </tr>\n",
       "  </thead>\n",
       "  <tbody>\n",
       "    <tr>\n",
       "      <th>count</th>\n",
       "      <td>41</td>\n",
       "      <td>41</td>\n",
       "    </tr>\n",
       "    <tr>\n",
       "      <th>unique</th>\n",
       "      <td>41</td>\n",
       "      <td>41</td>\n",
       "    </tr>\n",
       "    <tr>\n",
       "      <th>top</th>\n",
       "      <td>TECHM</td>\n",
       "      <td>https://www.moneycontrol.com/financials/bharti...</td>\n",
       "    </tr>\n",
       "    <tr>\n",
       "      <th>freq</th>\n",
       "      <td>1</td>\n",
       "      <td>1</td>\n",
       "    </tr>\n",
       "  </tbody>\n",
       "</table>\n",
       "</div>"
      ],
      "text/plain": [
       "       Company                                               Link\n",
       "count       41                                                 41\n",
       "unique      41                                                 41\n",
       "top      TECHM  https://www.moneycontrol.com/financials/bharti...\n",
       "freq         1                                                  1"
      ]
     },
     "execution_count": 5,
     "metadata": {},
     "output_type": "execute_result"
    }
   ],
   "source": [
    "data.describe()"
   ]
  },
  {
   "cell_type": "markdown",
   "metadata": {},
   "source": [
    "* The data looks clean and ready to be used."
   ]
  },
  {
   "cell_type": "markdown",
   "metadata": {},
   "source": [
    "### Extracting the links of the companies from the data.\n",
    "\n",
    "**Note:** The data is being extracted from [Money Control Website](https://www.moneycontrol.com/)"
   ]
  },
  {
   "cell_type": "code",
   "execution_count": 6,
   "metadata": {},
   "outputs": [],
   "source": [
    "companynames=list(data.iloc[:,0])\n",
    "links=list(data.iloc[:,1])\n",
    "\n",
    "#links for old format page\n",
    "linkso=[]\n",
    "for i in range(0,len(links)):\n",
    "    a=links[i].find('VI')\n",
    "    b=links[i][:a]+links[i][a+2:]\n",
    "    linkso.append(b)\n",
    "\n",
    "#links for profit-loss page\n",
    "linkso_pl=[]\n",
    "for i in range(0,len(linkso)):\n",
    "    a=linkso[i].find('balance-sheet')\n",
    "    b=linkso[i][:a]+'profit-loss'+linkso[i][a+13:]\n",
    "    linkso_pl.append(b)"
   ]
  },
  {
   "cell_type": "markdown",
   "metadata": {},
   "source": [
    "## Implementation of Step - 1 :\n",
    "**Filtering out all companies with sales less than Rs 250 cr.**"
   ]
  },
  {
   "cell_type": "markdown",
   "metadata": {},
   "source": [
    "### Scrapping Net Sales\n",
    "<br>\n",
    "\n",
    "**Note:** \n",
    "* As the details of net sales was not provided, the following banks were excluded from the file:\n",
    "> HDFC bank, ICICI bank, Indusland bank, Kotak Mahindra Bank, Yes Bank, SBI\n",
    "* As interestt cover ratio was not provided, the following were also excluded.\n",
    "> Bajaj Finserv and Infosys \n"
   ]
  },
  {
   "cell_type": "code",
   "execution_count": 7,
   "metadata": {},
   "outputs": [],
   "source": [
    "netsales_list=[]\n",
    "for i in range(0,len(linkso_pl)):\n",
    "    pageold=requests.get(linkso_pl[i])\n",
    "    soup = BeautifulSoup(pageold.text, 'html.parser')\n",
    "    about=soup.findAll('table')\n",
    "    about=str(about)\n",
    "    a=re.findall('<td>Net Sales</td>\\n.*</td>',about)\n",
    "    netsales=re.findall('>[-+]?[0-9].*<',str(a))\n",
    "    netsales=netsales[0][1:len(netsales[0])-1]\n",
    "    if(netsales.find(',') != -1):\n",
    "        b=netsales.find(',')\n",
    "        netsales_list.append(float(netsales[:b]+netsales[b+1:]))\n",
    "        b=-1\n",
    "    else:\n",
    "        netsales_list.append(float(netsales))"
   ]
  },
  {
   "cell_type": "markdown",
   "metadata": {},
   "source": [
    "* The Net Sales of each company is saved in the netsales list in Crores."
   ]
  },
  {
   "cell_type": "code",
   "execution_count": 8,
   "metadata": {},
   "outputs": [
    {
     "data": {
      "text/plain": [
       "[4643.28,\n",
       " 17194.09,\n",
       " 29918.65,\n",
       " 23822.53,\n",
       " 54317.1,\n",
       " 284382.95,\n",
       " 10986.68,\n",
       " 12659.15,\n",
       " 845.16,\n",
       " 11850.4,\n",
       " 9077.47,\n",
       " 71870.96,\n",
       " 18609.4,\n",
       " 32606.0,\n",
       " 58738.92,\n",
       " 28836.09,\n",
       " 40242.0,\n",
       " 38785.0,\n",
       " 15407.35,\n",
       " 6738.3,\n",
       " 486256.45,\n",
       " 45619.7,\n",
       " 64262.0,\n",
       " 82383.65,\n",
       " 45487.78,\n",
       " 75610.6,\n",
       " 97700.39,\n",
       " 109609.42,\n",
       " 36185.54,\n",
       " 335978.0,\n",
       " 12531.93,\n",
       " 43928.17,\n",
       " 60435.97,\n",
       " 131306.0,\n",
       " 29225.4,\n",
       " 20009.64,\n",
       " 40649.17,\n",
       " 9641.0,\n",
       " 35858.0,\n",
       " 50407.0,\n",
       " 6857.9]"
      ]
     },
     "execution_count": 8,
     "metadata": {},
     "output_type": "execute_result"
    }
   ],
   "source": [
    "# values in cr.\n",
    "netsales_list"
   ]
  },
  {
   "cell_type": "markdown",
   "metadata": {},
   "source": [
    "#### Filtering. \n",
    "* The companies with less than 250 cr. Net Sales are to be filtered out/removed."
   ]
  },
  {
   "cell_type": "code",
   "execution_count": 9,
   "metadata": {},
   "outputs": [],
   "source": [
    "filtersales=[]\n",
    "filtercomp=[]\n",
    "filterlink=[]\n",
    "filterolink=[]\n",
    "for i in range(0,len(netsales_list)):\n",
    "    if(netsales_list[i]<250.00):\n",
    "        filtersales.append(netsales_list[i])\n",
    "        filtercomp.append(companynames[i])\n",
    "        filterlink.append(links[i])\n",
    "        filterolink.append(linkso[i])\n",
    "for i in range(0,len(filtersales)):\n",
    "    netsales_list.remove(filtersales[i])\n",
    "    companynames.remove(filtercomp[i])\n",
    "    links.remove(filterlink[i])\n",
    "    linkso.remove(filterolink[i])"
   ]
  },
  {
   "cell_type": "markdown",
   "metadata": {},
   "source": [
    "## Implementatin of Step - 2 :\n",
    "**Filtering out all companies with debt to equity greater than 30%.**"
   ]
  },
  {
   "cell_type": "markdown",
   "metadata": {},
   "source": [
    "### Scraping debt equity Ratio"
   ]
  },
  {
   "cell_type": "markdown",
   "metadata": {},
   "source": [
    "* **Some of the data to be extracted is in old page format.**\n",
    "* **The links of the old page is stored in linkso_r list.**"
   ]
  },
  {
   "cell_type": "code",
   "execution_count": 10,
   "metadata": {},
   "outputs": [],
   "source": [
    "#links for ratio page\n",
    "linkso_r=[]\n",
    "for i in range(0,len(linkso)):\n",
    "    a=linkso[i].find('balance-sheet')\n",
    "    b=linkso[i][:a]+'ratios'+linkso[i][a+13:]\n",
    "    linkso_r.append(b)\n",
    "    \n",
    "debtequity_ratio=[]\n",
    "for i in range(0,len(linkso_r)):\n",
    "    pageold=requests.get(linkso_r[i])\n",
    "    soup = BeautifulSoup(pageold.text, 'html.parser')\n",
    "    about=soup.findAll('table')\n",
    "    about=str(about)\n",
    "    a=re.findall('<td>Debt Equity Ratio</td>\\n.*</td>',about)\n",
    "    der=re.findall('>[-+]?[0-9].*<',str(a))\n",
    "    if(len(der)==0):\n",
    "        der=0\n",
    "    else:\n",
    "        der=der[0][1:len(der[0])-1]\n",
    "    debtequity_ratio.append(float(der))\n"
   ]
  },
  {
   "cell_type": "code",
   "execution_count": 11,
   "metadata": {},
   "outputs": [
    {
     "data": {
      "text/plain": [
       "[1.38,\n",
       " 0.0,\n",
       " 0.0,\n",
       " 3.28,\n",
       " 0.81,\n",
       " 1.32,\n",
       " 0.28,\n",
       " 0.0,\n",
       " 0.0,\n",
       " 0.07,\n",
       " 0.0,\n",
       " 0.12,\n",
       " 0.13,\n",
       " 0.0,\n",
       " 4.86,\n",
       " 0.0,\n",
       " 0.51,\n",
       " 0.0,\n",
       " 5.57,\n",
       " 0.17,\n",
       " 1.2,\n",
       " 0.0,\n",
       " 1.2,\n",
       " 0.49,\n",
       " 0.09,\n",
       " 0.0,\n",
       " 1.41,\n",
       " 0.11,\n",
       " 2.15,\n",
       " 0.54,\n",
       " 0.24,\n",
       " 1.14,\n",
       " 0.51,\n",
       " 0.0,\n",
       " 0.0,\n",
       " 0.09,\n",
       " 0.47,\n",
       " 0.12,\n",
       " 0.46,\n",
       " 0.11,\n",
       " 0.1]"
      ]
     },
     "execution_count": 11,
     "metadata": {},
     "output_type": "execute_result"
    }
   ],
   "source": [
    "debtequity_ratio"
   ]
  },
  {
   "cell_type": "markdown",
   "metadata": {},
   "source": [
    "#### Companies with Debt Equity Ratio greater than 0.3 are filtered/removed."
   ]
  },
  {
   "cell_type": "code",
   "execution_count": 12,
   "metadata": {},
   "outputs": [],
   "source": [
    "filtersales=[]  \n",
    "filterder=[]\n",
    "filtercomp=[]\n",
    "filterlink=[]\n",
    "filterolink=[]\n",
    "for i in range(0,len(debtequity_ratio)):\n",
    "    if(debtequity_ratio[i]>0.3):\n",
    "        filterder.append(debtequity_ratio[i])\n",
    "        filtercomp.append(companynames[i])\n",
    "        filterlink.append(links[i])\n",
    "        filterolink.append(linkso[i])\n",
    "        filtersales.append(netsales_list[i])\n",
    "for i in range(0,len(filterder)):\n",
    "    debtequity_ratio.remove(filterder[i])\n",
    "    companynames.remove(filtercomp[i])\n",
    "    links.remove(filterlink[i])\n",
    "    linkso.remove(filterolink[i])\n",
    "    netsales_list.remove(filtersales[i])\n"
   ]
  },
  {
   "cell_type": "markdown",
   "metadata": {},
   "source": [
    "## Implementation of Step - 3 :\n",
    "**Filtering out all companies with interest coverage ratio of less than 4.**\n",
    "<br>\n",
    "### Scraping Interest Coverage Ratio."
   ]
  },
  {
   "cell_type": "code",
   "execution_count": 13,
   "metadata": {},
   "outputs": [],
   "source": [
    "#links for ratio page\n",
    "linkso_r=[]\n",
    "\n",
    "for i in range(0,len(linkso)):\n",
    "    a=linkso[i].find('balance-sheet')\n",
    "    b=linkso[i][:a]+'ratios'+linkso[i][a+13:]\n",
    "    linkso_r.append(b)\n",
    "\n",
    "icr_list=[]\n",
    "\n",
    "for i in range(0,len(linkso_r)): \n",
    "    pageold=requests.get(linkso_r[i])\n",
    "    soup = BeautifulSoup(pageold.text, 'html.parser')\n",
    "    about=soup.findAll('table')\n",
    "    about=str(about)\n",
    "    a=re.findall('<td>Interest Cover</td>\\n.*</td>',about)\n",
    "    #icr = re.findall(\"[^a-zA-Z:]([-+]?\\d+[\\.]?\\d*)\", str(a))\n",
    "    icr=re.findall('>[-+]?[0-9].*<',str(a))\n",
    "    icr=icr[0][1:len(icr[0])-1]\n",
    "    if(icr.find(',') != -1):\n",
    "        b=icr.find(',')\n",
    "        icr_list.append(float(icr[:b]+icr[b+1:]))\n",
    "        b=-1\n",
    "    else:\n",
    "        icr_list.append(float(icr))"
   ]
  },
  {
   "cell_type": "code",
   "execution_count": 14,
   "metadata": {
    "scrolled": true
   },
   "outputs": [
    {
     "data": {
      "text/plain": [
       "[44.97,\n",
       " 2083.34,\n",
       " 29.99,\n",
       " 83.23,\n",
       " 2149.15,\n",
       " 59.07,\n",
       " 224.79,\n",
       " 73.27,\n",
       " 6.55,\n",
       " 47.96,\n",
       " 177.94,\n",
       " 88.63,\n",
       " -650.95,\n",
       " 347.36,\n",
       " 46.31,\n",
       " 54.16,\n",
       " 17.03,\n",
       " 8.97,\n",
       " 57.52,\n",
       " 80.94,\n",
       " 15.08,\n",
       " 3.01,\n",
       " 21.57,\n",
       " 21.38]"
      ]
     },
     "execution_count": 14,
     "metadata": {},
     "output_type": "execute_result"
    }
   ],
   "source": [
    "icr_list"
   ]
  },
  {
   "cell_type": "markdown",
   "metadata": {},
   "source": [
    "#### Filtering out all companies with interest coverage ratio of less than 4."
   ]
  },
  {
   "cell_type": "code",
   "execution_count": 15,
   "metadata": {},
   "outputs": [],
   "source": [
    "filtericr=[]\n",
    "filtercomp=[]\n",
    "filterlink=[]\n",
    "filterolink=[]\n",
    "filtersales=[]\n",
    "filterder=[]\n",
    "for i in range(0,len(icr_list)):\n",
    "    if(icr_list[i]<4):\n",
    "        filtericr.append(icr_list[i])\n",
    "        filtercomp.append(companynames[i])\n",
    "        filterlink.append(links[i])\n",
    "        filterolink.append(linkso[i])\n",
    "        filtersales.append(netsales_list[i])\n",
    "        filterder.append(debtequity_ratio[i])\n",
    "for i in range(0,len(filtericr)):\n",
    "    icr_list.remove(filtericr[i])\n",
    "    companynames.remove(filtercomp[i])\n",
    "    links.remove(filterlink[i])\n",
    "    linkso.remove(filterolink[i])   \n",
    "    netsales_list.remove(filtersales[i])\n",
    "    debtequity_ratio.remove(filterder[i])"
   ]
  },
  {
   "cell_type": "markdown",
   "metadata": {},
   "source": [
    "## Implementation of Step - 4 :\n",
    "**Filtering out all companies with ROE less than 15%**"
   ]
  },
  {
   "cell_type": "markdown",
   "metadata": {},
   "source": [
    "* ROE stands for **Return on Equity.**\n",
    "* ROE is calculated by using the formula showm below."
   ]
  },
  {
   "attachments": {
    "roe-return-on-equity.png": {
     "image/png": "[encoded data removed]"
    }
   },
   "cell_type": "markdown",
   "metadata": {},
   "source": [
    "![roe-return-on-equity.png](attachment:roe-return-on-equity.png)"
   ]
  },
  {
   "cell_type": "markdown",
   "metadata": {},
   "source": [
    "* Net Income can be scrapped directly from the website.\n",
    "\n",
    "**Scraping Total Income**"
   ]
  },
  {
   "cell_type": "code",
   "execution_count": 16,
   "metadata": {},
   "outputs": [],
   "source": [
    "# links for profit loss page is stored in links_pl\n",
    "links_pl=[]\n",
    "for i in range(0,len(links)):\n",
    "    a=links[i].find('balance-sheet')\n",
    "    b=links[i][:a]+'profit-loss'+links[i][a+13:]\n",
    "    links_pl.append(b)\n",
    "\n",
    "ti_list=[]\n",
    "for i in range(0,len(links_pl)):\n",
    "    pageold=requests.get(links_pl[i])\n",
    "    soup = BeautifulSoup(pageold.text, 'html.parser')\n",
    "    about=soup.findAll('table')\n",
    "    about=str(about)\n",
    "    a=re.findall('<td>Total Revenue</td>\\n.*</td>',about)\n",
    "    ti=re.findall('>[0-9].*<',str(a))\n",
    "    ti=ti[0][1:len(ti[0])-1]\n",
    "    if(ti.find(',') != -1):\n",
    "        b=ti.find(',')\n",
    "        ti_list.append(float(ti[:b]+ti[b+1:]))\n",
    "        b = -1\n",
    "    else:\n",
    "        ti_list.append(float(ti))\n"
   ]
  },
  {
   "cell_type": "markdown",
   "metadata": {},
   "source": [
    "* Total Net Income has been scrapped and stored in the ti_list variable."
   ]
  },
  {
   "cell_type": "code",
   "execution_count": 17,
   "metadata": {},
   "outputs": [
    {
     "data": {
      "text/plain": [
       "[17551.63,\n",
       " 31652.21,\n",
       " 11322.11,\n",
       " 13552.0,\n",
       " 12411.49,\n",
       " 12593.6,\n",
       " 9692.81,\n",
       " 73287.8,\n",
       " 19134.85,\n",
       " 33193.0,\n",
       " 29614.43,\n",
       " 39518.0,\n",
       " 48633.36,\n",
       " 47155.59,\n",
       " 79031.4,\n",
       " 117128.43,\n",
       " 14042.85,\n",
       " 139388.0,\n",
       " 31591.6,\n",
       " 20156.05,\n",
       " 52883.6,\n",
       " 7047.3]"
      ]
     },
     "execution_count": 17,
     "metadata": {},
     "output_type": "execute_result"
    }
   ],
   "source": [
    "ti_list"
   ]
  },
  {
   "cell_type": "markdown",
   "metadata": {},
   "source": [
    "**Scraping Shareholder's Equity Share Capital**"
   ]
  },
  {
   "cell_type": "markdown",
   "metadata": {},
   "source": [
    "* Total assests can be extracted directly from the website.\n",
    "* Total Liabilities is **Total Non-Current Liabilities + Total Current Liabilities.**\n",
    "* Total Non-Current Liabilities and Total Current Liabilities can be extracted from the website and later used in the formula."
   ]
  },
  {
   "cell_type": "code",
   "execution_count": 20,
   "metadata": {},
   "outputs": [],
   "source": [
    "tot_assets=[]\n",
    "current_lia=[]\n",
    "noncurrent_lia=[]\n",
    "\n",
    "for i in range(0,len(links)):\n",
    "    pageold=requests.get(links[i])\n",
    "    soup = BeautifulSoup(pageold.text, 'html.parser')\n",
    "    about=soup.findAll('table')\n",
    "    about=str(about)\n",
    "    \n",
    "    ''' Scraping Total Assests'''\n",
    "    \n",
    "    a=re.findall('<td>Total Assets</td>\\n.*</td>',about)\n",
    "    totas=re.findall('>[-+]?[0-9].*<',str(a))\n",
    "    totas=totas[0][1:len(totas[0])-1]\n",
    "    if(totas.find(',') != -1):\n",
    "        b=totas.find(',')\n",
    "        tot_assets.append(float(totas[:b]+totas[b+1:]))\n",
    "        b=-1\n",
    "    else:\n",
    "        tot_assets.append(float(totas))\n",
    "    \n",
    "    ''' Scrapping Total Non- Current Liabilities.'''\n",
    "    \n",
    "    a=re.findall('<td>Total Non-Current Liabilities</td>\\n.*</td>',about)\n",
    "    totncl=re.findall('>[-+]?[0-9].*<',str(a))\n",
    "    totncl=totncl[0][1:len(totncl[0])-1]\n",
    "    if(totncl.find(',') != -1):\n",
    "        b=totncl.find(',')\n",
    "        noncurrent_lia.append(float(totncl[:b]+totncl[b+1:]))\n",
    "        b = -1\n",
    "    else:\n",
    "        noncurrent_lia.append(float(totncl))\n",
    "        \n",
    "    ''' Scrapping Total Current Liabilites. '''\n",
    "    \n",
    "    a=re.findall('<td>Total Current Liabilities</td>\\n.*</td>',about)\n",
    "    totcl=re.findall('>[-+]?[0-9].*<',str(a))\n",
    "    totcl=totcl[0][1:len(totcl[0])-1]\n",
    "    if(totcl.find(',') != -1):\n",
    "        b=totcl.find(',')\n",
    "        current_lia.append(float(totcl[:b]+totcl[b+1:]))\n",
    "        b=-1\n",
    "    else:\n",
    "        current_lia.append(float(totcl))\n",
    "    \n"
   ]
  },
  {
   "cell_type": "markdown",
   "metadata": {},
   "source": [
    "* The Total Assets is stored in tot_assets variable."
   ]
  },
  {
   "cell_type": "code",
   "execution_count": 21,
   "metadata": {},
   "outputs": [
    {
     "data": {
      "text/plain": [
       "[13587.62,\n",
       " 24773.3,\n",
       " 7253.34,\n",
       " 20405.66,\n",
       " 22416.78,\n",
       " 19475.8,\n",
       " 10579.01,\n",
       " 68533.63,\n",
       " 49494.57,\n",
       " 53515.0,\n",
       " 18749.33,\n",
       " 19602.0,\n",
       " 75235.36,\n",
       " 50502.06,\n",
       " 62552.1,\n",
       " 302234.81,\n",
       " 38410.33,\n",
       " 104975.0,\n",
       " 30322.0,\n",
       " 13187.95,\n",
       " 65306.4,\n",
       " 10869.1]"
      ]
     },
     "execution_count": 21,
     "metadata": {},
     "output_type": "execute_result"
    }
   ],
   "source": [
    "tot_assets"
   ]
  },
  {
   "cell_type": "markdown",
   "metadata": {},
   "source": [
    "* Total Non-Current Liabilities is stored in noncurrent_lia variable"
   ]
  },
  {
   "cell_type": "code",
   "execution_count": 22,
   "metadata": {},
   "outputs": [
    {
     "data": {
      "text/plain": [
       "[939.28,\n",
       " 594.6,\n",
       " 763.63,\n",
       " 383.41,\n",
       " 4915.43,\n",
       " 103.4,\n",
       " 442.55,\n",
       " 13124.96,\n",
       " 4313.24,\n",
       " 2278.0,\n",
       " 636.87,\n",
       " 2467.0,\n",
       " 2116.79,\n",
       " 5061.4,\n",
       " 2820.3,\n",
       " 52525.38,\n",
       " 2810.37,\n",
       " 6581.0,\n",
       " 2334.8,\n",
       " 1119.21,\n",
       " 2408.9,\n",
       " 126.6]"
      ]
     },
     "execution_count": 22,
     "metadata": {},
     "output_type": "execute_result"
    }
   ],
   "source": [
    "noncurrent_lia"
   ]
  },
  {
   "cell_type": "markdown",
   "metadata": {},
   "source": [
    "* Total Current Liabilities is stored in current_lia variable."
   ]
  },
  {
   "cell_type": "code",
   "execution_count": 23,
   "metadata": {},
   "outputs": [
    {
     "data": {
      "text/plain": [
       "[3195.05,\n",
       " 4253.21,\n",
       " 2215.06,\n",
       " 2619.29,\n",
       " 688.05,\n",
       " 4180.5,\n",
       " 1861.12,\n",
       " 11437.57,\n",
       " 7507.29,\n",
       " 13941.0,\n",
       " 3976.06,\n",
       " 9104.0,\n",
       " 9089.41,\n",
       " 10972.82,\n",
       " 11294.8,\n",
       " 46716.88,\n",
       " 11203.74,\n",
       " 24026.0,\n",
       " 5713.8,\n",
       " 5243.88,\n",
       " 16443.8,\n",
       " 2870.2]"
      ]
     },
     "execution_count": 23,
     "metadata": {},
     "output_type": "execute_result"
    }
   ],
   "source": [
    "current_lia"
   ]
  },
  {
   "cell_type": "markdown",
   "metadata": {},
   "source": [
    "**Calculating ROE from the scrapped data.**"
   ]
  },
  {
   "cell_type": "code",
   "execution_count": 24,
   "metadata": {},
   "outputs": [],
   "source": [
    "# calculating Shareholder's Equity\n",
    "\n",
    "share_equity = np.array(tot_assets)-(np.array(current_lia) + np.array(noncurrent_lia))"
   ]
  },
  {
   "cell_type": "code",
   "execution_count": 25,
   "metadata": {},
   "outputs": [],
   "source": [
    "roe_list = np.array(ti_list)/share_equity \n",
    "roe_list = roe_list.tolist()"
   ]
  },
  {
   "cell_type": "code",
   "execution_count": 27,
   "metadata": {},
   "outputs": [
    {
     "data": {
      "text/plain": [
       "[1.8566689480593528,\n",
       " 1.5885285631620605,\n",
       " 2.648663633279918,\n",
       " 0.7787181031272842,\n",
       " 0.7381947624797036,\n",
       " 0.828968068510193,\n",
       " 1.1712884304451538,\n",
       " 1.6667265544869243,\n",
       " 0.5079054436423596,\n",
       " 0.8899882024882025,\n",
       " 2.0949060581194643,\n",
       " 4.920682355871,\n",
       " 0.7595501799492606,\n",
       " 1.3681040065173797,\n",
       " 1.6316328426616016,\n",
       " 0.5770085158297681,\n",
       " 0.5756158126135934,\n",
       " 1.8743007745266782,\n",
       " 1.4183555272208104,\n",
       " 2.9533279803541754,\n",
       " 1.138415239259736,\n",
       " 0.8952021645516557]"
      ]
     },
     "execution_count": 27,
     "metadata": {},
     "output_type": "execute_result"
    }
   ],
   "source": [
    "# Values are in proportion.\n",
    "roe_list"
   ]
  },
  {
   "cell_type": "markdown",
   "metadata": {},
   "source": [
    "### Filtering ROE values.\n",
    "\n",
    "* Filtering companies having ROE value less than 15% (0.15)."
   ]
  },
  {
   "cell_type": "code",
   "execution_count": 28,
   "metadata": {},
   "outputs": [],
   "source": [
    "filtersales=[]  \n",
    "filterder=[]\n",
    "filtericr=[]\n",
    "filterroe=[]\n",
    "filtercomp=[]\n",
    "filterlink=[]\n",
    "filterolink=[]\n",
    "for i in range(0,len(roe_list)):\n",
    "    if(roe_list[i]<0.15):\n",
    "        filtersales.append(netsales_list[i])\n",
    "        filterder.append(debtequity_ratio[i])\n",
    "        filtericr.append(icr_list[i])\n",
    "        filterroe.append(roe_list[i])\n",
    "        filtercomp.append(companynames[i])\n",
    "        filterlink.append(links[i])\n",
    "\n",
    "for i in range(0,len(filterroe)):\n",
    "    netsales_list.remove(filtersales[i])\n",
    "    debtequity_ratio.remove(filterder[i])\n",
    "    icr_list.remove(filtericr[i])\n",
    "    roe_list.remove(filterroe[i])\n",
    "    companynames.remove(filtercomp[i])\n",
    "    links.remove(filterlink[i])"
   ]
  },
  {
   "cell_type": "markdown",
   "metadata": {},
   "source": [
    "## Implementation of Step - 5 :\n",
    "**Filtering out all companies with PE ratio greater than 25 since they are too expensive even for a high-quality company**"
   ]
  },
  {
   "cell_type": "markdown",
   "metadata": {},
   "source": [
    "* PE stands for **Price per Earning Ratio.**\n",
    "* PE can be calculated by using the formula shown below."
   ]
  },
  {
   "attachments": {
    "PE_Ratio.png": {
     "image/png": "[encoded data removed]"
    }
   },
   "cell_type": "markdown",
   "metadata": {},
   "source": [
    "![PE_Ratio.png](attachment:PE_Ratio.png)"
   ]
  },
  {
   "cell_type": "markdown",
   "metadata": {},
   "source": [
    "* Current Share price is not available directly from the website.\n",
    "* It can be calculated using the formula **Price per book value * Book value per Share.**"
   ]
  },
  {
   "cell_type": "markdown",
   "metadata": {},
   "source": [
    "### Scraping for Current Share Price."
   ]
  },
  {
   "cell_type": "code",
   "execution_count": 29,
   "metadata": {},
   "outputs": [],
   "source": [
    "# links for ratio\n",
    "\n",
    "links_r=[]\n",
    "for i in range(0,len(links)):\n",
    "    a=links[i].find('balance-sheet')\n",
    "    b=links[i][:a]+'ratios'+links[i][a+13:]\n",
    "    links_r.append(b)\n",
    "\n",
    "    \n",
    "pricbv=[]\n",
    "bkvshr=[]\n",
    "for i in range(0,len(links_r)):\n",
    "    pageold=requests.get(links_r[i])\n",
    "    soup = BeautifulSoup(pageold.text, 'html.parser')\n",
    "    about=soup.findAll('table')\n",
    "    about=str(about)\n",
    "    \n",
    "    ''' Scraping for price/book-value. '''\n",
    "    \n",
    "    a=re.findall('<td>Price/BV.*</td>\\n.*</td>',about)\n",
    "    pbv=re.findall('>[-+]?[0-9].*<',str(a))\n",
    "    pbv=pbv[0][1:len(pbv[0])-1]\n",
    "    if(pbv.find(',') != -1):\n",
    "        b=pbv.find(',')\n",
    "        pricbv.append(float(pbv[:b]+pbv[b+1:]))\n",
    "        b=-1\n",
    "    else:\n",
    "        pricbv.append(float(pbv))\n",
    "        \n",
    "    ''' Scraping for book-value/share. '''\n",
    "    \n",
    "    a=re.findall('<td>Book Value.*/Share.*</td>\\n.*</td>',about)\n",
    "    a=a[0]\n",
    "    pbvs=re.findall('>[-+]?[0-9].*<',str(a))\n",
    "    pbvs=pbvs[0][1:len(pbvs[0])-1]\n",
    "    if(pbvs.find(',') != -1):\n",
    "        b=pbvs.find(',')\n",
    "        bkvshr.append(float(pbvs[:b]+pbvs[b+1:]))\n",
    "        b=-1\n",
    "    else:\n",
    "        bkvshr.append(float(pbvs))\n",
    "\n"
   ]
  },
  {
   "cell_type": "markdown",
   "metadata": {},
   "source": [
    "* Price per book value is stored in the pricbv variable."
   ]
  },
  {
   "cell_type": "code",
   "execution_count": 30,
   "metadata": {
    "scrolled": true
   },
   "outputs": [
    {
     "data": {
      "text/plain": [
       "[16.91,\n",
       " 2.94,\n",
       " 15.13,\n",
       " 1.96,\n",
       " 5.13,\n",
       " 3.41,\n",
       " 4.32,\n",
       " 0.78,\n",
       " 0.83,\n",
       " 3.18,\n",
       " 2.25,\n",
       " 61.81,\n",
       " 3.3,\n",
       " 0.99,\n",
       " 2.67,\n",
       " 0.99,\n",
       " 3.46,\n",
       " 9.19,\n",
       " 2.45,\n",
       " 12.14,\n",
       " 2.42,\n",
       " 5.98]"
      ]
     },
     "execution_count": 30,
     "metadata": {},
     "output_type": "execute_result"
    }
   ],
   "source": [
    "pricbv"
   ]
  },
  {
   "cell_type": "markdown",
   "metadata": {},
   "source": [
    "* Book-value per share is store in bkvshr variable."
   ]
  },
  {
   "cell_type": "code",
   "execution_count": 31,
   "metadata": {},
   "outputs": [
    {
     "data": {
      "text/plain": [
       "[98.55,\n",
       " 688.58,\n",
       " 177.74,\n",
       " 215.85,\n",
       " 27.28,\n",
       " 914.07,\n",
       " 3031.26,\n",
       " 97.49,\n",
       " 572.68,\n",
       " 137.37,\n",
       " 707.7,\n",
       " 37.18,\n",
       " 52.09,\n",
       " 288.91,\n",
       " 1603.87,\n",
       " 161.36,\n",
       " 101.68,\n",
       " 198.31,\n",
       " 230.62,\n",
       " 76.87,\n",
       " 81.31,\n",
       " 74.29]"
      ]
     },
     "execution_count": 31,
     "metadata": {},
     "output_type": "execute_result"
    }
   ],
   "source": [
    "bkvshr"
   ]
  },
  {
   "cell_type": "markdown",
   "metadata": {},
   "source": [
    "### Scraping Earnings Per Share."
   ]
  },
  {
   "cell_type": "code",
   "execution_count": 33,
   "metadata": {},
   "outputs": [],
   "source": [
    "eps_list=[]\n",
    "for i in range(0,len(links_pl)):\n",
    "    pageold=requests.get(links_pl[i])\n",
    "    soup = BeautifulSoup(pageold.text, 'html.parser')\n",
    "    about=soup.findAll('table')\n",
    "    about=str(about)\n",
    "    a=re.findall('<td>Basic EPS.*</td>\\n.*</td>',about)\n",
    "    eps=re.findall('>[-+]?[0-9].*<',str(a))\n",
    "    eps=eps[0][1:len(eps[0])-1]\n",
    "    if(eps.find(',') != -1):\n",
    "        b=eps.find(',')\n",
    "        eps_list.append(float(eps[:b]+eps[b+1:]))\n",
    "        b=-1\n",
    "    else:\n",
    "        eps_list.append(float(eps))"
   ]
  },
  {
   "cell_type": "markdown",
   "metadata": {},
   "source": [
    "* Earnings per share is stored in eps_list variable."
   ]
  },
  {
   "cell_type": "code",
   "execution_count": 34,
   "metadata": {},
   "outputs": [
    {
     "data": {
      "text/plain": [
       "[27.67,\n",
       " 176.3,\n",
       " 61.75,\n",
       " 28.76,\n",
       " 18.31,\n",
       " 177.23,\n",
       " 697.5,\n",
       " 14.68,\n",
       " 19.35,\n",
       " 33.06,\n",
       " 181.91,\n",
       " 31.13,\n",
       " 12.33,\n",
       " 11.16,\n",
       " 187.06,\n",
       " 20.86,\n",
       " 13.38,\n",
       " 88.64,\n",
       " 46.89,\n",
       " 17.09,\n",
       " 14.88,\n",
       " 17.23]"
      ]
     },
     "execution_count": 34,
     "metadata": {},
     "output_type": "execute_result"
    }
   ],
   "source": [
    "eps_list"
   ]
  },
  {
   "cell_type": "markdown",
   "metadata": {},
   "source": [
    "### Calculating Price to Equity Ratio (PE) as per the formula."
   ]
  },
  {
   "cell_type": "code",
   "execution_count": 35,
   "metadata": {},
   "outputs": [],
   "source": [
    "pe=np.array(bkvshr)*np.array(pricbv)/np.array(eps_list)\n",
    "pe=pe.tolist()"
   ]
  },
  {
   "cell_type": "markdown",
   "metadata": {},
   "source": [
    "* PE ratio values are store in pe variable."
   ]
  },
  {
   "cell_type": "code",
   "execution_count": 36,
   "metadata": {},
   "outputs": [
    {
     "data": {
      "text/plain": [
       "[60.226978677267795,\n",
       " 11.48284288145207,\n",
       " 43.549897975708504,\n",
       " 14.71022253129346,\n",
       " 7.643167667941017,\n",
       " 17.587195734356488,\n",
       " 18.77425548387097,\n",
       " 5.179986376021798,\n",
       " 24.56456847545219,\n",
       " 13.213448275862069,\n",
       " 8.753367049639932,\n",
       " 73.8225441696113,\n",
       " 13.941362530413624,\n",
       " 25.62911290322581,\n",
       " 22.892830642574573,\n",
       " 7.658024928092043,\n",
       " 26.2939312406577,\n",
       " 20.56034408844765,\n",
       " 12.049882704201321,\n",
       " 54.605137507314225,\n",
       " 13.22380376344086,\n",
       " 25.783760882182243]"
      ]
     },
     "execution_count": 36,
     "metadata": {},
     "output_type": "execute_result"
    }
   ],
   "source": [
    "pe"
   ]
  },
  {
   "cell_type": "markdown",
   "metadata": {},
   "source": [
    "**Filtering out all companies with PE ratio greater than 25**"
   ]
  },
  {
   "cell_type": "code",
   "execution_count": 37,
   "metadata": {},
   "outputs": [],
   "source": [
    "''' Filtering wrt PE values '''\n",
    "filtersales=[]  \n",
    "filterder=[]\n",
    "filtericr=[]\n",
    "filterroe=[]\n",
    "filterpe=[]\n",
    "filtercomp=[]\n",
    "filterlink=[]\n",
    "filterolink=[]\n",
    "for i in range(0,len(pe)):\n",
    "    if(pe[i]>25):\n",
    "        filtersales.append(netsales_list[i])\n",
    "        filterder.append(debtequity_ratio[i])\n",
    "        filtericr.append(icr_list[i])\n",
    "        filterroe.append(roe_list[i])\n",
    "        filterpe.append(pe[i])\n",
    "        filtercomp.append(companynames[i])\n",
    "        filterlink.append(links[i])\n",
    "\n",
    "for i in range(0,len(filterpe)):\n",
    "    netsales_list.remove(filtersales[i])\n",
    "    debtequity_ratio.remove(filterder[i])\n",
    "    icr_list.remove(filtericr[i])\n",
    "    roe_list.remove(filterroe[i])\n",
    "    pe.remove(filterpe[i])\n",
    "    companynames.remove(filtercomp[i])\n",
    "    links.remove(filterlink[i])"
   ]
  },
  {
   "cell_type": "markdown",
   "metadata": {},
   "source": [
    "## Results:\n",
    "* The Benjamin Graham and Warren Buffer filter was implemented on the given companies to filter out the comapanies which are poor in the current stock market."
   ]
  },
  {
   "cell_type": "markdown",
   "metadata": {},
   "source": [
    "**The final list of companies that have passed the filter is made into a dataframe.**"
   ]
  },
  {
   "cell_type": "code",
   "execution_count": 38,
   "metadata": {},
   "outputs": [],
   "source": [
    "final=list(zip(companynames,netsales_list,debtequity_ratio,icr_list,roe_list,pe))\n",
    "\n",
    "filtered_list=pd.DataFrame(final,columns=['Company','Net Sales in cr.','Debt to Equity Ratio','Interest Coverage Ratio','Return On Equity (ROE)','P/E Ratio'])\n"
   ]
  },
  {
   "cell_type": "code",
   "execution_count": 39,
   "metadata": {},
   "outputs": [
    {
     "name": "stdout",
     "output_type": "stream",
     "text": [
      "       Company  Net Sales in cr.  Debt to Equity Ratio  \\\n",
      "0   BAJAJ-AUTO          29918.65                  0.07   \n",
      "1        CIPLA          12659.15                  0.00   \n",
      "2    COALINDIA            845.16                  0.13   \n",
      "3      DRREDDY          11850.40                  0.00   \n",
      "4    EICHERMOT           9077.47                  0.00   \n",
      "5         GAIL          71870.96                  0.00   \n",
      "6       GRASIM          18609.40                  0.00   \n",
      "7      HCLTECH          32606.00                  0.09   \n",
      "8   HEROMOTOCO          28836.09                  0.00   \n",
      "9          ITC          45619.70                  0.11   \n",
      "10      MARUTI          75610.60                  0.24   \n",
      "11        ONGC         109609.42                  0.00   \n",
      "12         TCS         131306.00                  0.00   \n",
      "13       TECHM          29225.40                  0.09   \n",
      "14       WIPRO          50407.00                  0.11   \n",
      "\n",
      "    Interest Coverage Ratio  Return On Equity (ROE)  P/E Ratio  \n",
      "0                   2083.34                1.588529  11.482843  \n",
      "1                     83.23                0.778718  14.710223  \n",
      "2                   2149.15                0.738195   7.643168  \n",
      "3                     59.07                0.828968  17.587196  \n",
      "4                    224.79                1.171288  18.774255  \n",
      "5                     73.27                1.666727   5.179986  \n",
      "6                      6.55                0.507905  24.564568  \n",
      "7                     47.96                0.889988  13.213448  \n",
      "8                    177.94                2.094906   8.753367  \n",
      "9                    347.36                0.759550  13.941363  \n",
      "10                    54.16                1.631633  22.892831  \n",
      "11                    17.03                0.577009   7.658025  \n",
      "12                    57.52                1.874301  20.560344  \n",
      "13                    80.94                1.418356  12.049883  \n",
      "14                    21.57                1.138415  13.223804  \n"
     ]
    }
   ],
   "source": [
    "print(filtered_list)"
   ]
  },
  {
   "cell_type": "markdown",
   "metadata": {},
   "source": [
    "* Storing these companies in an excel sheet."
   ]
  },
  {
   "cell_type": "code",
   "execution_count": 40,
   "metadata": {},
   "outputs": [],
   "source": [
    "filtered_list.to_csv('After_Filteration.csv', index=False)"
   ]
  },
  {
   "cell_type": "markdown",
   "metadata": {},
   "source": [
    "## Note:\n",
    "* These values and filteration process is dynamic.\n",
    "* The data and values might change based on the company's performance in the stock market."
   ]
  }
 ],
 "metadata": {
  "kernelspec": {
   "display_name": "Python 3",
   "language": "python",
   "name": "python3"
  },
  "language_info": {
   "codemirror_mode": {
    "name": "ipython",
    "version": 3
   },
   "file_extension": ".py",
   "mimetype": "text/x-python",
   "name": "python",
   "nbconvert_exporter": "python",
   "pygments_lexer": "ipython3",
   "version": "3.7.7"
  }
 },
 "nbformat": 4,
 "nbformat_minor": 2
}
